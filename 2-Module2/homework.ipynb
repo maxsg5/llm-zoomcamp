{
 "cells": [
  {
   "cell_type": "code",
   "execution_count": 25,
   "id": "b75b28f5",
   "metadata": {},
   "outputs": [],
   "source": [
    "from fastembed import TextEmbedding"
   ]
  },
  {
   "cell_type": "code",
   "execution_count": 26,
   "id": "09de2a28",
   "metadata": {},
   "outputs": [],
   "source": [
    "# Initialize the embedding model\n",
    "embedder = TextEmbedding(model_name=\"jinaai/jina-embeddings-v2-small-en\")"
   ]
  },
  {
   "cell_type": "code",
   "execution_count": 27,
   "id": "9bc16b9e",
   "metadata": {},
   "outputs": [],
   "source": [
    "# Your query\n",
    "query = \"I just discovered the course. Can I join now?\"\n",
    "\n",
    "# Embed the text (returns a generator)\n",
    "embedding = list(embedder.embed([query]))[0]  # Convert from generator and extract the single vector\n"
   ]
  },
  {
   "cell_type": "code",
   "execution_count": 28,
   "id": "20b1c241",
   "metadata": {},
   "outputs": [
    {
     "name": "stdout",
     "output_type": "stream",
     "text": [
      "(512,)\n",
      "-0.11726373885183883\n"
     ]
    }
   ],
   "source": [
    "import numpy as np\n",
    "\n",
    "embedding = np.array(embedding)\n",
    "print(embedding.shape)         # Should be (512,)\n",
    "print(np.min(embedding))       # This gives the answer to the quiz\n"
   ]
  },
  {
   "cell_type": "code",
   "execution_count": 30,
   "id": "7765dc88",
   "metadata": {},
   "outputs": [
    {
     "data": {
      "text/plain": [
       "1.0000000000000002"
      ]
     },
     "execution_count": 30,
     "metadata": {},
     "output_type": "execute_result"
    }
   ],
   "source": [
    "np.linalg.norm(embedding)"
   ]
  },
  {
   "cell_type": "code",
   "execution_count": 31,
   "id": "d69ba6b4",
   "metadata": {},
   "outputs": [],
   "source": [
    "similarity = embedding.dot(embedding)"
   ]
  },
  {
   "cell_type": "code",
   "execution_count": 32,
   "id": "0e24a426",
   "metadata": {},
   "outputs": [
    {
     "data": {
      "text/plain": [
       "1.0000000000000004"
      ]
     },
     "execution_count": 32,
     "metadata": {},
     "output_type": "execute_result"
    }
   ],
   "source": [
    "similarity"
   ]
  },
  {
   "cell_type": "code",
   "execution_count": 34,
   "id": "a55da71c",
   "metadata": {},
   "outputs": [
    {
     "name": "stdout",
     "output_type": "stream",
     "text": [
      "0.9008528895674548\n"
     ]
    }
   ],
   "source": [
    "doc = 'Can I still join the course after the start date?'\n",
    "\n",
    "q1 = list(embedder.embed([query]))[0]\n",
    "q2 = list(embedder.embed([doc]))[0]\n",
    "\n",
    "similarity = q1.dot(q2)\n",
    "\n",
    "print(similarity)\n"
   ]
  },
  {
   "cell_type": "code",
   "execution_count": 35,
   "id": "66907af2",
   "metadata": {},
   "outputs": [],
   "source": [
    "documents = [{'text': \"Yes, even if you don't register, you're still eligible to submit the homeworks.\\nBe aware, however, that there will be deadlines for turning in the final projects. So don't leave everything for the last minute.\",\n",
    "  'section': 'General course-related questions',\n",
    "  'question': 'Course - Can I still join the course after the start date?',\n",
    "  'course': 'data-engineering-zoomcamp'},\n",
    " {'text': 'Yes, we will keep all the materials after the course finishes, so you can follow the course at your own pace after it finishes.\\nYou can also continue looking at the homeworks and continue preparing for the next cohort. I guess you can also start working on your final capstone project.',\n",
    "  'section': 'General course-related questions',\n",
    "  'question': 'Course - Can I follow the course after it finishes?',\n",
    "  'course': 'data-engineering-zoomcamp'},\n",
    " {'text': \"The purpose of this document is to capture frequently asked technical questions\\nThe exact day and hour of the course will be 15th Jan 2024 at 17h00. The course will start with the first  “Office Hours'' live.1\\nSubscribe to course public Google Calendar (it works from Desktop only).\\nRegister before the course starts using this link.\\nJoin the course Telegram channel with announcements.\\nDon’t forget to register in DataTalks.Club's Slack and join the channel.\",\n",
    "  'section': 'General course-related questions',\n",
    "  'question': 'Course - When will the course start?',\n",
    "  'course': 'data-engineering-zoomcamp'},\n",
    " {'text': 'You can start by installing and setting up all the dependencies and requirements:\\nGoogle cloud account\\nGoogle Cloud SDK\\nPython 3 (installed with Anaconda)\\nTerraform\\nGit\\nLook over the prerequisites and syllabus to see if you are comfortable with these subjects.',\n",
    "  'section': 'General course-related questions',\n",
    "  'question': 'Course - What can I do before the course starts?',\n",
    "  'course': 'data-engineering-zoomcamp'},\n",
    " {'text': 'Star the repo! Share it with friends if you find it useful ❣️\\nCreate a PR if you see you can improve the text or the structure of the repository.',\n",
    "  'section': 'General course-related questions',\n",
    "  'question': 'How can we contribute to the course?',\n",
    "  'course': 'data-engineering-zoomcamp'}]"
   ]
  },
  {
   "cell_type": "code",
   "execution_count": 36,
   "id": "132f49de",
   "metadata": {},
   "outputs": [
    {
     "name": "stdout",
     "output_type": "stream",
     "text": [
      "Most similar index: 1\n"
     ]
    }
   ],
   "source": [
    "# 1. Embed all document texts\n",
    "doc_texts = [doc['text'] for doc in documents]\n",
    "V = np.array(list(embedder.embed(doc_texts)))  # Shape: (5, 512)\n",
    "\n",
    "# 2. Embed the query\n",
    "query = \"I just discovered the course. Can I join now?\"\n",
    "q = np.array(list(embedder.embed([query]))[0])  # Shape: (512,)\n",
    "\n",
    "# 3. Compute cosine similarities\n",
    "similarities = V.dot(q)\n",
    "\n",
    "# 4. Find the index with the highest similarity\n",
    "most_similar_index = int(np.argmax(similarities))\n",
    "print(\"Most similar index:\", most_similar_index)"
   ]
  },
  {
   "cell_type": "code",
   "execution_count": 37,
   "id": "3184e76a",
   "metadata": {},
   "outputs": [
    {
     "name": "stdout",
     "output_type": "stream",
     "text": [
      "Best matching index: 0\n"
     ]
    }
   ],
   "source": [
    "from fastembed import TextEmbedding\n",
    "import numpy as np\n",
    "\n",
    "embedder = TextEmbedding(model_name=\"jinaai/jina-embeddings-v2-small-en\")\n",
    "\n",
    "# Original documents\n",
    "documents = [\n",
    "    {'question': 'Course - Can I still join the course after the start date?',\n",
    "     'text': \"Yes, even if you don't register, you're still eligible to submit the homeworks.\\nBe aware, however, that there will be deadlines for turning in the final projects. So don't leave everything for the last minute.\"},\n",
    "    \n",
    "    {'question': 'Course - Can I follow the course after it finishes?',\n",
    "     'text': 'Yes, we will keep all the materials after the course finishes, so you can follow the course at your own pace after it finishes.\\nYou can also continue looking at the homeworks and continue preparing for the next cohort. I guess you can also start working on your final capstone project.'},\n",
    "    \n",
    "    {'question': 'Course - When will the course start?',\n",
    "     'text': \"The purpose of this document is to capture frequently asked technical questions\\nThe exact day and hour of the course will be 15th Jan 2024 at 17h00...\"},\n",
    "    \n",
    "    {'question': 'Course - What can I do before the course starts?',\n",
    "     'text': 'You can start by installing and setting up all the dependencies and requirements:\\nGoogle cloud account...'},\n",
    "    \n",
    "    {'question': 'How can we contribute to the course?',\n",
    "     'text': 'Star the repo! Share it with friends if you find it useful ❣️...'}\n",
    "]\n",
    "\n",
    "# Step 1: Create full_text field\n",
    "full_texts = [doc['question'] + ' ' + doc['text'] for doc in documents]\n",
    "\n",
    "# Step 2: Embed all full_texts\n",
    "V_full = np.array(list(embedder.embed(full_texts)))\n",
    "\n",
    "# Step 3: Embed query again\n",
    "query = \"I just discovered the course. Can I join now?\"\n",
    "q = np.array(list(embedder.embed([query]))[0])\n",
    "\n",
    "# Step 4: Compute cosine similarities\n",
    "similarities = V_full.dot(q)\n",
    "\n",
    "# Step 5: Find best match\n",
    "best_index = int(np.argmax(similarities))\n",
    "print(\"Best matching index:\", best_index)\n"
   ]
  },
  {
   "cell_type": "code",
   "execution_count": 38,
   "id": "736e7975",
   "metadata": {},
   "outputs": [
    {
     "data": {
      "application/vnd.jupyter.widget-view+json": {
       "model_id": "f105ea44429c4afea8c972e8525c001b",
       "version_major": 2,
       "version_minor": 0
      },
      "text/plain": [
       "Fetching 5 files:   0%|          | 0/5 [00:00<?, ?it/s]"
      ]
     },
     "metadata": {},
     "output_type": "display_data"
    },
    {
     "data": {
      "application/vnd.jupyter.widget-view+json": {
       "model_id": "e90838a7e1784801ab2527c7fc3583b4",
       "version_major": 2,
       "version_minor": 0
      },
      "text/plain": [
       "tokenizer_config.json:   0%|          | 0.00/366 [00:00<?, ?B/s]"
      ]
     },
     "metadata": {},
     "output_type": "display_data"
    },
    {
     "data": {
      "application/vnd.jupyter.widget-view+json": {
       "model_id": "3e7f843fbac44ae68e7ab53e8b30b9fd",
       "version_major": 2,
       "version_minor": 0
      },
      "text/plain": [
       "config.json:   0%|          | 0.00/701 [00:00<?, ?B/s]"
      ]
     },
     "metadata": {},
     "output_type": "display_data"
    },
    {
     "data": {
      "application/vnd.jupyter.widget-view+json": {
       "model_id": "cea774f7e4554014b1d913c4e742e222",
       "version_major": 2,
       "version_minor": 0
      },
      "text/plain": [
       "tokenizer.json: 0.00B [00:00, ?B/s]"
      ]
     },
     "metadata": {},
     "output_type": "display_data"
    },
    {
     "data": {
      "application/vnd.jupyter.widget-view+json": {
       "model_id": "eef986433143450da71723c00ed647a7",
       "version_major": 2,
       "version_minor": 0
      },
      "text/plain": [
       "special_tokens_map.json:   0%|          | 0.00/125 [00:00<?, ?B/s]"
      ]
     },
     "metadata": {},
     "output_type": "display_data"
    },
    {
     "data": {
      "application/vnd.jupyter.widget-view+json": {
       "model_id": "c330dfc4efed4b35a187b71e5980711d",
       "version_major": 2,
       "version_minor": 0
      },
      "text/plain": [
       "model_optimized.onnx:   0%|          | 0.00/133M [00:00<?, ?B/s]"
      ]
     },
     "metadata": {},
     "output_type": "display_data"
    },
    {
     "name": "stdout",
     "output_type": "stream",
     "text": [
      "384\n"
     ]
    }
   ],
   "source": [
    "from fastembed import TextEmbedding\n",
    "\n",
    "embedder = TextEmbedding(model_name=\"BAAI/bge-small-en\")\n",
    "\n",
    "# Example\n",
    "embedding = list(embedder.embed([\"This is a test.\"]))[0]\n",
    "print(len(embedding))  # Should print 384\n"
   ]
  },
  {
   "cell_type": "code",
   "execution_count": 39,
   "id": "78ca4677",
   "metadata": {},
   "outputs": [],
   "source": [
    "import requests\n",
    "\n",
    "docs_url = 'https://github.com/alexeygrigorev/llm-rag-workshop/raw/main/notebooks/documents.json'\n",
    "docs_response = requests.get(docs_url)\n",
    "documents_raw = docs_response.json()\n",
    "\n",
    "documents = []\n",
    "\n",
    "for course in documents_raw:\n",
    "    if course['course'] != 'machine-learning-zoomcamp':\n",
    "        continue\n",
    "    for doc in course['documents']:\n",
    "        doc['course'] = course['course']\n",
    "        documents.append(doc)\n"
   ]
  },
  {
   "cell_type": "code",
   "execution_count": 40,
   "id": "c6e58d3c",
   "metadata": {},
   "outputs": [],
   "source": [
    "texts = [doc['question'] + ' ' + doc['text'] for doc in documents]\n"
   ]
  },
  {
   "cell_type": "code",
   "execution_count": 41,
   "id": "7d4cd539",
   "metadata": {},
   "outputs": [],
   "source": [
    "from fastembed import TextEmbedding\n",
    "import numpy as np\n",
    "\n",
    "embedder = TextEmbedding(model_name=\"BAAI/bge-small-en\")\n",
    "\n",
    "embeddings = list(embedder.embed(texts))  # 384-dimensional\n"
   ]
  },
  {
   "cell_type": "code",
   "execution_count": 42,
   "id": "05989b34",
   "metadata": {},
   "outputs": [
    {
     "name": "stderr",
     "output_type": "stream",
     "text": [
      "/tmp/ipykernel_33095/2453493047.py:7: DeprecationWarning: `recreate_collection` method is deprecated and will be removed in the future. Use `collection_exists` to check collection existence and `create_collection` instead.\n",
      "  client.recreate_collection(\n"
     ]
    },
    {
     "data": {
      "text/plain": [
       "UpdateResult(operation_id=0, status=<UpdateStatus.COMPLETED: 'completed'>)"
      ]
     },
     "execution_count": 42,
     "metadata": {},
     "output_type": "execute_result"
    }
   ],
   "source": [
    "from qdrant_client import QdrantClient\n",
    "from qdrant_client.models import Distance, VectorParams, PointStruct\n",
    "\n",
    "client = QdrantClient(\":memory:\")  # Use in-memory or Qdrant Cloud\n",
    "\n",
    "# Create a collection\n",
    "client.recreate_collection(\n",
    "    collection_name=\"ml_faq\",\n",
    "    vectors_config=VectorParams(size=384, distance=Distance.COSINE)\n",
    ")\n",
    "\n",
    "# Add points\n",
    "points = [\n",
    "    PointStruct(id=i, vector=embeddings[i], payload={\"text\": texts[i]})\n",
    "    for i in range(len(texts))\n",
    "]\n",
    "\n",
    "client.upsert(collection_name=\"ml_faq\", points=points)\n"
   ]
  },
  {
   "cell_type": "code",
   "execution_count": 43,
   "id": "b988bb53",
   "metadata": {},
   "outputs": [
    {
     "name": "stdout",
     "output_type": "stream",
     "text": [
      "0.8703173995018005\n"
     ]
    },
    {
     "name": "stderr",
     "output_type": "stream",
     "text": [
      "/tmp/ipykernel_33095/3698080907.py:4: DeprecationWarning: `search` method is deprecated and will be removed in the future. Use `query_points` instead.\n",
      "  search_result = client.search(\n"
     ]
    }
   ],
   "source": [
    "query = \"I just discovered the course. Can I join now?\"\n",
    "query_vector = list(embedder.embed([query]))[0]\n",
    "\n",
    "search_result = client.search(\n",
    "    collection_name=\"ml_faq\",\n",
    "    query_vector=query_vector,\n",
    "    limit=1\n",
    ")\n",
    "\n",
    "print(search_result[0].score)\n"
   ]
  },
  {
   "cell_type": "code",
   "execution_count": null,
   "id": "e7689523",
   "metadata": {},
   "outputs": [],
   "source": []
  }
 ],
 "metadata": {
  "kernelspec": {
   "display_name": "Python 3 (ipykernel)",
   "language": "python",
   "name": "python3"
  },
  "language_info": {
   "codemirror_mode": {
    "name": "ipython",
    "version": 3
   },
   "file_extension": ".py",
   "mimetype": "text/x-python",
   "name": "python",
   "nbconvert_exporter": "python",
   "pygments_lexer": "ipython3",
   "version": "3.12.7"
  }
 },
 "nbformat": 4,
 "nbformat_minor": 5
}
